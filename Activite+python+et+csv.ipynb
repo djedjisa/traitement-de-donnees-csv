{
 "cells": [
  {
   "cell_type": "markdown",
   "metadata": {},
   "source": [
    "Equipe SNT -  2nde - LLG 974 "
   ]
  },
  {
   "cell_type": "markdown",
   "metadata": {},
   "source": [
    "SQ4 - Traitement des données - S3"
   ]
  },
  {
   "cell_type": "markdown",
   "metadata": {},
   "source": [
    "# I. Python et Format CSV "
   ]
  },
  {
   "cell_type": "markdown",
   "metadata": {},
   "source": [
    "Les fichiers **5+python+et+csv.ipynb**, **dpt2018.csv** et **informaticiens.csv** sont dans la page d'accueil web que vous venez d'ouvrir\n",
    "\n",
    "**ATTENTION:** Le fichier **dpt2018.csv** étant trop lourd (75 Mbit), il ne sera pas possible de l'ouvrir en ligne. "
   ]
  },
  {
   "cell_type": "markdown",
   "metadata": {},
   "source": [
    "##  1. Format CSV "
   ]
  },
  {
   "cell_type": "markdown",
   "metadata": {},
   "source": [
    "a. Que signifient les initiales du format de fichier .csv ? Donner la signification anglaise, et sa traduction en français."
   ]
  },
  {
   "cell_type": "raw",
   "metadata": {},
   "source": []
  },
  {
   "cell_type": "markdown",
   "metadata": {},
   "source": [
    "Revenez sur votre page web d'accueil et sélectionner le fichier **informaticiens.csv** mis à disposition.\n",
    "\n",
    "La première ligne du fichier correspond aux descripteurs, c'est-à-dire aux titres des colonnes de classement.\n"
   ]
  },
  {
   "cell_type": "markdown",
   "metadata": {},
   "source": [
    "b. Quels sont les descripteurs de ce fichier ?"
   ]
  },
  {
   "cell_type": "raw",
   "metadata": {},
   "source": []
  },
  {
   "cell_type": "markdown",
   "metadata": {},
   "source": [
    "c. Quel symbole est utilisé comme séparateur ?"
   ]
  },
  {
   "cell_type": "raw",
   "metadata": {},
   "source": []
  },
  {
   "cell_type": "markdown",
   "metadata": {},
   "source": [
    "d. En quelle année est née Ada Lovelace ?"
   ]
  },
  {
   "cell_type": "raw",
   "metadata": {},
   "source": []
  },
  {
   "cell_type": "markdown",
   "metadata": {},
   "source": [
    "e. Quel est le prénom de Mme Hamilton ? "
   ]
  },
  {
   "cell_type": "raw",
   "metadata": {},
   "source": []
  },
  {
   "cell_type": "markdown",
   "metadata": {},
   "source": [
    "f. Qui, parmi les personnes listées dans ce fichier, est né le plus tard ?"
   ]
  },
  {
   "cell_type": "raw",
   "metadata": {},
   "source": []
  },
  {
   "cell_type": "markdown",
   "metadata": {},
   "source": [
    "## 2. Traitement des données d'un tableau"
   ]
  },
  {
   "cell_type": "markdown",
   "metadata": {},
   "source": [
    "### Présentation du fichier de travail"
   ]
  },
  {
   "cell_type": "markdown",
   "metadata": {},
   "source": [
    "Le fichier de données **dpt2018.csv** que vous trouverez dans votre page d'accueil web a été récupéré sur le site gouvernemental https://www.data.gouv.fr/fr/datasets/ficher-des-prenoms-de-1900-a-2018/. \n",
    "\n",
    "Il ressence les prénoms attribués aux enfants nés en France hors Mayotte entre 1900 et 2018 et les effectifs par sexe associés à chaque prénom. "
   ]
  },
  {
   "cell_type": "markdown",
   "metadata": {},
   "source": [
    "### Affichage du tableau de données dans ce notebook"
   ]
  },
  {
   "cell_type": "markdown",
   "metadata": {},
   "source": [
    "Exécutez le fragment de code contenu dans la cellule qui suit. Le texte situé juste après le symbole # correspond à un commentaire. Il a comme objectif de vous expliquer ce que réalisent les différentes instructions du code."
   ]
  },
  {
   "cell_type": "code",
   "execution_count": null,
   "metadata": {},
   "outputs": [],
   "source": [
    "import pandas    #╬ Importation de la bibliothèque pandas\n",
    "\n",
    "prenoms = pandas.read_csv(\"dpt2018.csv\", sep=\";\")  # Lecture des données du fichier dpt2018.csv\n",
    "# En tenant compte des séparateurs pour identifier chaque donnée\n",
    "# Affectation des données lues à la variable 'prenoms'\n",
    "\n",
    "print(prenoms)  # Affichage du contenu de la variable 'prenoms'"
   ]
  },
  {
   "cell_type": "markdown",
   "metadata": {},
   "source": [
    "a. Quels sont les descripteurs de ce fichier ?"
   ]
  },
  {
   "cell_type": "markdown",
   "metadata": {},
   "source": [
    "Les données que vous visualisez ont été affectées à la variable **prenoms**. Appelez cette variable dans la cellule suivante (en tapant **prenoms**) et visualisez la mise en forme des données en question."
   ]
  },
  {
   "cell_type": "code",
   "execution_count": null,
   "metadata": {
    "collapsed": true
   },
   "outputs": [],
   "source": []
  },
  {
   "cell_type": "markdown",
   "metadata": {},
   "source": [
    "b. Le contenu du fichier **dpt2018.csv** est présenté sous la forme d'un tableau contenant des lignes et des colonnes.\n",
    "\n",
    "Précisez les dimensions de ce tableau: nombre de lignes et nombre de colonnes."
   ]
  },
  {
   "cell_type": "raw",
   "metadata": {
    "collapsed": true
   },
   "source": []
  },
  {
   "cell_type": "markdown",
   "metadata": {},
   "source": [
    "### Parcours du tableau de données"
   ]
  },
  {
   "cell_type": "markdown",
   "metadata": {},
   "source": [
    "Anaysons le tableau que vous venez d'éditer dans votre notebook. Je précise qu'il est affecté à la variable **prenoms**\n",
    "\n",
    "La 1ère ligne correspond aux descripteurs:\n",
    "* sexe: sexe du prénom (1 pour un garçon ; 2 pour une fille) \n",
    "* preusuel: prénom\n",
    "* annais: année de naissance\n",
    "* dpt: département de naissance\n",
    "* nombre: nombre d'enfants portant ce prénom\n",
    "\n",
    "Certains champs contiennent XXXX. Cela correspond sans doute à des données incorrectes ou inconnues.\n",
    "\n",
    "Chaque ligne suivante correspond à une donnée différente. Par exemple, la ligne numéro 3 signifie :\n",
    "\n",
    "En 1983, dans le département du Vaucluse (84), trois garçons sont nés avec le prénom Aadil."
   ]
  },
  {
   "cell_type": "raw",
   "metadata": {
    "collapsed": true
   },
   "source": [
    "c. Complétez la phrase suivante avec les données de la ligne 4:\n",
    "\n",
    "En ???????, dans le département  ?????? (????), ?????????????? sont nés/nées avec le prénom ??????????"
   ]
  },
  {
   "cell_type": "markdown",
   "metadata": {},
   "source": [
    "Il est possible d'afficher une cellule du tableau en particulier. Par exemple, le fragment de code suivant donne l'année de naissance de la ligne numéro 3."
   ]
  },
  {
   "cell_type": "markdown",
   "metadata": {},
   "source": [
    "Exécutez ce fragment de code et assurez vous qu'il affiche la bonne valeur."
   ]
  },
  {
   "cell_type": "code",
   "execution_count": null,
   "metadata": {},
   "outputs": [],
   "source": [
    "recherche = prenoms.loc[3, \"annais\"]  # le contenu de la cellule situé dans le tableau à la ligne 3 et à la colonne \"ANNAIS\"\n",
    "# est affecté à la variable 'recherche'\n",
    "\n",
    "print(recherche)   # Affichage du contenu de la variable 'recherche'"
   ]
  },
  {
   "cell_type": "markdown",
   "metadata": {},
   "source": [
    "Réécrivez le fragment de code précédent mais cette fois ci dans le but d'afficher le nombre d'enfants nés sous le nom de AAKASH. Celui-ci se trouve à la **ligne numérotée 8** (en réalité 9ème ligne mais le language Python compte toujours à partir de 0)."
   ]
  },
  {
   "cell_type": "code",
   "execution_count": null,
   "metadata": {},
   "outputs": [],
   "source": [
    "recherche = prenoms.loc[????????????] \n",
    "\n",
    "print(recherche)"
   ]
  },
  {
   "cell_type": "markdown",
   "metadata": {},
   "source": [
    "Il est aussi possible d'afficher toute une ligne ou toute une colonne, en utilisant la syntaxe prenoms.loc[3, :] (pour avoir toute la ligne numéro 3), ou prenoms.loc[:, \"annais\"] (pour avoir toute la colonne annais).\n",
    "\n",
    "Modifiez le fragment de code suivant afin qu'il affiche la colonne des prénoms."
   ]
  },
  {
   "cell_type": "code",
   "execution_count": null,
   "metadata": {
    "collapsed": true
   },
   "outputs": [],
   "source": [
    "recherche = prenoms.loc[???????????] \n",
    "\n",
    "print(recherche)"
   ]
  },
  {
   "cell_type": "markdown",
   "metadata": {},
   "source": [
    "### Recherche de données dans le tableau"
   ]
  },
  {
   "cell_type": "markdown",
   "metadata": {},
   "source": [
    "Exécutez le fragment de code suivant et vérifiez que ne sont affichés que les informations des prénoms qui ont été donnés dans le département de la Réunion (974)."
   ]
  },
  {
   "cell_type": "code",
   "execution_count": null,
   "metadata": {},
   "outputs": [],
   "source": [
    "recherche = prenoms.loc[(prenoms['dpt'] == \"974\"), :]    # Affectation à la variable recherche\n",
    "#à tous les prénoms donnés dans le département 974\n",
    "# On réalise en quelque sorte d'un filtre des prénoms par rapport à l'origine géographique\n",
    "\n",
    "print(recherche)   # Affiche le nouveau contenu de la variable recherche"
   ]
  },
  {
   "cell_type": "markdown",
   "metadata": {},
   "source": [
    "Compléter le fragement de code suivant afin de filtrer et afficher uniquement les informations des prénoms qui ont été donnés pendant l'année 2018"
   ]
  },
  {
   "cell_type": "code",
   "execution_count": null,
   "metadata": {
    "collapsed": true
   },
   "outputs": [],
   "source": [
    "recherche = prenoms.loc[??????????????????]   \n",
    "\n",
    "print(recherche)   "
   ]
  },
  {
   "cell_type": "markdown",
   "metadata": {},
   "source": [
    "Il est possible d'utiliser plusieurs filtres en même temps. Il faut utiliser pour cela l'opérateur logique & (et). \n",
    "\n",
    "Exécutez le fragment de code suivant et assurez vous que le résultat demandé corresponde bien à celui attendu."
   ]
  },
  {
   "cell_type": "code",
   "execution_count": null,
   "metadata": {},
   "outputs": [],
   "source": [
    "recherche = prenoms.loc[(prenoms['dpt'] == \"974\") & (prenoms['annais'] == \"2018\"), :]\n",
    "\n",
    "print(recherche)"
   ]
  },
  {
   "cell_type": "markdown",
   "metadata": {},
   "source": [
    "## Quelques activités de tris"
   ]
  },
  {
   "cell_type": "markdown",
   "metadata": {},
   "source": [
    "Il est aussi possible de trier les résultats précédents. Dans le champ de code suivant, la variable **recherche** est reprise. Si vous avez bien suivi, le contenu correspond au dernier tableau que vous venez d'afficher. "
   ]
  },
  {
   "cell_type": "code",
   "execution_count": null,
   "metadata": {},
   "outputs": [],
   "source": [
    "tri = recherche.sort_values(by=\"nombre\")\n",
    "\n",
    "print(tri)"
   ]
  },
  {
   "cell_type": "raw",
   "metadata": {},
   "source": [
    "En observant le nouveau tableau obtenu, expliquez quel type de tri a été réalisé par le fragment de code précédent. \n",
    "\n",
    "............................................................"
   ]
  },
  {
   "cell_type": "raw",
   "metadata": {
    "collapsed": true
   },
   "source": [
    "Toujours à partir du résultat précédent, répondez aux 4 questions suivantes:\n",
    "\n",
    "1. En 2018, à la Réunion, quel a été le prénom le plus donné ? \n",
    "\n",
    "...............................\n",
    "\n",
    "2. En 2018, à la Réunion, quel a été le prénom de filles le plus donné ? \n",
    "\n",
    "...............................\n",
    "\n",
    "3. En 2018, à la Réunion, quel a été le prénom de garçons le plus donné ? \n",
    "\n",
    "...............................\n",
    "\n",
    "4. En 2018, à la Réunion, combien de filles ont été prénommés Emma ? \n",
    "\n",
    "...............................\n"
   ]
  },
  {
   "cell_type": "markdown",
   "metadata": {},
   "source": [
    "## A vous de jouer ..."
   ]
  },
  {
   "cell_type": "markdown",
   "metadata": {},
   "source": [
    "Ecrire le fragment de code ci dessous permettant de répondre à cette question: durant votre année de naissance, dans votre département, combien d'enfants ont été nommés avec le même prénom que vous ? "
   ]
  },
  {
   "cell_type": "code",
   "execution_count": null,
   "metadata": {
    "collapsed": true
   },
   "outputs": [],
   "source": [
    "??????????????????????"
   ]
  }
 ],
 "metadata": {
  "kernelspec": {
   "display_name": "Python 3",
   "language": "python",
   "name": "python3"
  },
  "language_info": {
   "codemirror_mode": {
    "name": "ipython",
    "version": 3
   },
   "file_extension": ".py",
   "mimetype": "text/x-python",
   "name": "python",
   "nbconvert_exporter": "python",
   "pygments_lexer": "ipython3",
   "version": "3.6.2"
  },
  "livereveal": {
   "auto_select": "code",
   "auto_select_fragment": true,
   "autolaunch": false,
   "backimage": "media/nologo.png",
   "height": "100%",
   "start_slideshow_at": "selected",
   "theme": "simple",
   "transition": "fade",
   "width": "100%"
  },
  "notebookname": "Dimension 1",
  "version": "3.0"
 },
 "nbformat": 4,
 "nbformat_minor": 2
}
